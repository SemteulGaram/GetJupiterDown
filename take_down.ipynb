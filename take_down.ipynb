{
 "cells": [
  {
   "attachments": {},
   "cell_type": "markdown",
   "metadata": {},
   "source": [
    "## How to use\n",
    "Paste the code below into any top-level .ipynb in your Jupiter notebook and run it to create an archive.tar in your server directory\n",
    "> from: https://stackoverflow.com/questions/48122744/how-to-download-all-files-and-folder-hierarchy-from-jupyter-notebook"
   ]
  },
  {
   "cell_type": "code",
   "execution_count": null,
   "metadata": {},
   "outputs": [],
   "source": [
    "import os\n",
    "import tarfile\n",
    "\n",
    "def recursive_files(dir_name='.', ignore=None):\n",
    "    for dir_name,subdirs,files in os.walk(dir_name):\n",
    "        if ignore and os.path.basename(dir_name) in ignore: \n",
    "            continue\n",
    "\n",
    "        for file_name in files:\n",
    "            if ignore and file_name in ignore:\n",
    "                continue\n",
    "\n",
    "            yield os.path.join(dir_name, file_name)\n",
    "\n",
    "def make_tar_file(dir_name='.', tar_file_name='tarfile.tar', ignore=None):\n",
    "    tar = tarfile.open(tar_file_name, 'w', dereference=True)\n",
    "\n",
    "    for file_name in recursive_files(dir_name, ignore):\n",
    "        tar.add(file_name)\n",
    "\n",
    "    tar.close()\n",
    "\n",
    "\n",
    "dir_name = '.'\n",
    "tar_file_name = 'archive.tar'\n",
    "ignore = {'.ipynb_checkpoints', '__pycache__', tar_file_name}\n",
    "make_tar_file(dir_name, tar_file_name, ignore)"
   ]
  }
 ],
 "metadata": {
  "kernelspec": {
   "display_name": "base",
   "language": "python",
   "name": "python3"
  },
  "language_info": {
   "name": "python",
   "version": "3.9.12"
  },
  "orig_nbformat": 4,
  "vscode": {
   "interpreter": {
    "hash": "c0275d3ee3ab34ee257a5e36e57c7e627fc89396eb818753d0fe9d2886289bed"
   }
  }
 },
 "nbformat": 4,
 "nbformat_minor": 2
}
